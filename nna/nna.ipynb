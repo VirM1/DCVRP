{
 "cells": [
  {
   "cell_type": "code",
   "execution_count": null,
   "id": "e4c9ca9e",
   "metadata": {},
   "outputs": [],
   "source": [
    "import os\n",
    "import csv\n",
    "import time\n",
    "import folium\n",
    "import random\n",
    "import numpy as np\n",
    "import pandas as pd\n",
    "from tqdm import tqdm\n",
    "from geopy.distance import geodesic\n",
    "from typing import List, Dict, Tuple, Generator"
   ]
  },
  {
   "cell_type": "code",
   "execution_count": null,
   "id": "4dbb162d",
   "metadata": {},
   "outputs": [],
   "source": [
    "####### Global performance def #######\n",
    "\n",
    "\"\"\"\n",
    "\n",
    "The purpose of this code is to define a decorator function called measure_time that \n",
    "can be used to measure the execution time of other functions. By applying this decorator \n",
    "to a function, you can easily track how long it takes to execute.\n",
    "\n",
    "When the measure_time decorator is applied to a function, it wraps the original \n",
    "function with a wrapper function. The wrapper function checks if the measurement is enabled. \n",
    "If it is, the wrapper function records the start time, calls the original function, \n",
    "records the end time, calculates the execution time, and prints the results. \n",
    "Finally, it returns the result of the original function.\n",
    "\n",
    "\n",
    "\"\"\"\n",
    "\n",
    "def measure_time(func):\n",
    "    # Get the enabled value outside the wrapper\n",
    "    enabled = measure_time.enabled  \n",
    "\n",
    "    def wrapper(*args, **kwargs):\n",
    "        # ensure we're using the latest settings\n",
    "        enabled = measure_time.enabled  \n",
    "        if enabled:\n",
    "            \n",
    "            start_time = time.time()  \n",
    "            # Call the original function with the provided arguments\n",
    "            result = func(*args, **kwargs)  \n",
    "            end_time = time.time()  \n",
    "            execution_time = end_time - start_time \n",
    "            \n",
    "            print(f\" the Function: {func.__name__} took: {execution_time} seconds\") \n",
    "            return result  # Return the result of the decorated function\n",
    "        else:\n",
    "            # If the decorator is disabled, simply call the original function\n",
    "            return func(*args, **kwargs)  \n",
    "\n",
    "    # Return the wrapper function only if enabled, else return the original function\n",
    "    return wrapper if enabled else func\n",
    "\n",
    "\n",
    "####### ####### ####### ####### #######"
   ]
  },
  {
   "cell_type": "code",
   "execution_count": null,
   "id": "39090aaa",
   "metadata": {},
   "outputs": [],
   "source": [
    "####### Global ploting system #######\n",
    "\n",
    "\"\"\"\n",
    "\n",
    "The purpose of this code is to define a function called plot_cities that creates a map \n",
    "with markers and lines to visualize city data. The function takes \n",
    "two parameters: city_data, which contains the information about the cities to be \n",
    "plotted, and bound (optional), which specifies the order of cities to be plotted.\n",
    "\n",
    "The plot_cities function contains several helper functions:\n",
    "\n",
    "* arrange_cities_nearest: This function arranges the cities in city_data in the order \n",
    "specified by path. It sorts the cities based on their index in the path list, ensuring \n",
    "that the cities are plotted in the desired order.\n",
    "\n",
    "* create_map_center: This function extracts the coordinates of the first city in \n",
    "city_data and returns them as the center of the map.\n",
    "\n",
    "* create_custom_icon_style: This function defines a custom icon style for the markers \n",
    "on the map. It sets the background color, text color, border radius, padding, font weight, \n",
    "and font size.\n",
    "\n",
    "* add_marker_with_icon: This function adds a marker with a custom icon to the map. \n",
    "It takes the coordinates, name, icon style, and index as parameters and creates a marker \n",
    "with a numbered icon at the specified coordinates.\n",
    "\n",
    "* draw_line_between_cities: This function draws a line between two cities on the map. \n",
    "It takes the coordinates of the current city, the coordinates of the next city, the names \n",
    "of both cities, and the index as parameters. It creates a polyline connecting the two cities with \n",
    "a tooltip indicating the route number and the city names.\n",
    "\n",
    "\"\"\"\n",
    "\n",
    "def plot_cities(city_data, bound = None):\n",
    "    \n",
    "    def arrange_cities_nearest(city_data, path):\n",
    "        city_names = citiesSample[:, -1]\n",
    "        sorted_indices = np.argsort([path.index(city) for city in city_names])\n",
    "        sorted_citiesSample = citiesSample[sorted_indices]\n",
    "        return np.vstack((sorted_citiesSample, sorted_citiesSample[0]))\n",
    "\n",
    "    def create_map_center():\n",
    "        return [float(city_data[0][2]), float(city_data[0][3])]\n",
    "\n",
    "    def create_custom_icon_style():\n",
    "        return \"\"\"\n",
    "            background-color: #ff5959;\n",
    "            color: #ffffff;\n",
    "            border-radius: 100%;\n",
    "            padding: 20%;\n",
    "            text-align: center;\n",
    "            font-weight: bold;\n",
    "            font-size: auto;\n",
    "        \"\"\"\n",
    "\n",
    "    def add_marker_with_icon(coords, name, icon_style, i):\n",
    "        folium.Marker(\n",
    "            coords,\n",
    "            popup=name,\n",
    "            icon=folium.DivIcon(\n",
    "                icon_size=(24, 24),\n",
    "                icon_anchor=(12, 12),\n",
    "                html='<div style=\"{}\">{}</div>'.format(icon_style, i + 1)\n",
    "            )\n",
    "        ).add_to(map_obj)\n",
    "\n",
    "    def draw_line_between_cities(coords, next_coords, name, next_city, i):\n",
    "        folium.PolyLine(\n",
    "            [coords, next_coords],\n",
    "            color='blue',\n",
    "            weight=2.5,\n",
    "            opacity=1.0,\n",
    "            tooltip='Route {}: {} -> {}'.format(i + 1, name, next_city[4])\n",
    "        ).add_to(map_obj)\n",
    "\n",
    "    # Create a map centered on the first city's coordinates\n",
    "    map_center = create_map_center()\n",
    "    map_obj = folium.Map(location=map_center, zoom_start=6)\n",
    "\n",
    "    if bound:\n",
    "        city_data = arrange_cities_nearest(city_data, bound)\n",
    "        # Iterate over the city data and plot markers and lines\n",
    "        for i in range(len(city_data) - 1):\n",
    "            city = city_data[i]\n",
    "            coords = [float(city[2]), float(city[3])]\n",
    "            name = city[4]\n",
    "\n",
    "            icon_style = create_custom_icon_style()\n",
    "\n",
    "            add_marker_with_icon(coords, name, icon_style, i)\n",
    "\n",
    "            next_city = city_data[i + 1]\n",
    "            next_coords = [float(next_city[2]), float(next_city[3])]\n",
    "\n",
    "            draw_line_between_cities(coords, next_coords, name, next_city, i)\n",
    "    else:\n",
    "        # Iterate over the city data and create a folium marker for each city\n",
    "        for city in city_data:\n",
    "            folium.Marker(\n",
    "                location=[float(city[2]), float(city[3])],\n",
    "                popup=city[4]\n",
    "            ).add_to(map_obj)\n",
    "\n",
    "    # Display the map\n",
    "    return map_obj\n",
    "\n",
    "####### ####### ####### ####### #######"
   ]
  },
  {
   "cell_type": "code",
   "execution_count": null,
   "id": "ac586cc6",
   "metadata": {},
   "outputs": [],
   "source": [
    "####### Global notebook configs #######\n",
    "\n",
    "# Toggle for enabling/disabling the \n",
    "# decorator\n",
    "measure_time.enabled = True \n",
    "if measure_time.enabled:\n",
    "    print(\"* measure_time is enabled \")\n",
    "\n",
    "# specify the folder path and files name \n",
    "dataset_file_path = os.path.join('../datasets', 'cities.csv')\n",
    "print(f\"* the selected dataset is located at: {dataset_file_path}\")\n",
    "\n",
    "####### ####### ####### ####### #######"
   ]
  },
  {
   "cell_type": "markdown",
   "id": "448bb767",
   "metadata": {},
   "source": [
    "# City Generator \n",
    "\n",
    "this part contains the folowing logic: we first retrieve data from a dataset and later construct a sample from it that contain the cities name, the ZIP Code, the population count and longitude|latitude "
   ]
  },
  {
   "cell_type": "markdown",
   "id": "cd191414",
   "metadata": {},
   "source": [
    "<u>non-optimized</u>"
   ]
  },
  {
   "cell_type": "code",
   "execution_count": null,
   "id": "ba21737a",
   "metadata": {},
   "outputs": [],
   "source": [
    "@measure_time\n",
    "def read_csv_to_tuple(filename: str):\n",
    "    with open(filename, \"r\", encoding='ISO-8859-1') as fh:  # Open the file in read mode\n",
    "        # Create a CSV reader object with delimiter ';'\n",
    "        reader = csv.reader(fh, delimiter=';')  \n",
    "        # Skip the header row\n",
    "        next(reader, None)  \n",
    "        # Convert the remaining rows to a tuple\n",
    "        cities = tuple(reader)  \n",
    "    return cities  # Return the tuple\n",
    "\n",
    "\n",
    "@measure_time\n",
    "def sample_N_from_tuple(cities: tuple, size: int = None):\n",
    "    totalRows = len(cities)\n",
    "    # If size is not specified or greater than totalRows Return \n",
    "    # an empty tuple\n",
    "    if size is None or size > totalRows:  \n",
    "        return ()\n",
    "    # Return a random sample of 'size' elements from the tuple\n",
    "    return random.sample(cities, size)  "
   ]
  },
  {
   "cell_type": "code",
   "execution_count": null,
   "id": "b7b16161",
   "metadata": {},
   "outputs": [],
   "source": [
    "citiesTuple = read_csv_to_tuple(dataset_file_path)\n",
    "citiesSample = sample_N_from_tuple(citiesTuple, 10)"
   ]
  },
  {
   "cell_type": "markdown",
   "id": "6b172458",
   "metadata": {},
   "source": [
    "<u>optimized</u>"
   ]
  },
  {
   "cell_type": "markdown",
   "id": "70dda566",
   "metadata": {},
   "source": [
    "- Reads the CSV file using the pandas library's read_csv function.\n",
    "    - Efficient CSV reading: The optimized version uses pandas' read_csv function, which is highly optimized for reading CSV files. It takes advantage of optimized file parsing algorithms and efficient memory management, resulting in faster file reading compared to the line-by-line reading in the non-optimized version.\n",
    "\n",
    "- Converts the DataFrame to a tuple of lists and then to a tuple.\n",
    "    - In the non-optimized version, each row from the CSV file is converted to a tuple individually. In the optimized version, pandas converts the entire DataFrame to a tuple of lists in one operation, which is more efficient and faster.\n",
    "    \n",
    "- Uses pandas and NumPy functions for sampling instead of the random.sample function.\n",
    "    - The non-optimized version uses the random.sample function to sample elements from the tuple. In the optimized version, NumPy's random.choice function is used, which is implemented in optimized C code and performs faster random sampling.\n",
    "    - The optimized version uses pandas' iloc function to extract the sampled data based on the selected indices. This indexing operation is optimized in pandas and provides faster access to the desired rows."
   ]
  },
  {
   "cell_type": "code",
   "execution_count": null,
   "id": "6b0e3e02",
   "metadata": {},
   "outputs": [],
   "source": [
    "@measure_time\n",
    "def read_csv_to_tuple(filename: str):\n",
    "    # Read the CSV file using pandas\n",
    "    df = pd.read_csv(filename, delimiter=';', encoding='ISO-8859-1')\n",
    "    # Convert the DataFrame to a tuple of lists and then to a tuple\n",
    "    cities = tuple(df.values.tolist())  \n",
    "    return cities\n",
    "\n",
    "\n",
    "@measure_time\n",
    "def sample_N_from_tuple(cities: tuple, size: int = None):\n",
    "    # Create a DataFrame from the tuple of lists\n",
    "    df = pd.DataFrame(list(cities))\n",
    "    # Get the total number of rows in the DataFrame\n",
    "    totalRows = len(df)\n",
    "    \n",
    "    # If size is not specified or greater than totalRows\n",
    "    # Return an empty tuple\n",
    "    if size is None or size > totalRows:  \n",
    "        return ()\n",
    "    \n",
    "    # Randomly select 'size' indices without replacement\n",
    "    indices = np.random.choice(totalRows, size, replace=False)\n",
    "    # Extract the sampled data based on the selected indices\n",
    "    sampled_data = df.iloc[indices].values.tolist()  \n",
    "    # Return the sampled data as a NumPy array\n",
    "    return np.array(sampled_data)  "
   ]
  },
  {
   "cell_type": "code",
   "execution_count": null,
   "id": "29a6ef12",
   "metadata": {},
   "outputs": [],
   "source": [
    "citiesTuple = read_csv_to_tuple(dataset_file_path)\n",
    "citiesSample = sample_N_from_tuple(citiesTuple, 10)"
   ]
  },
  {
   "cell_type": "markdown",
   "id": "ee751f2d",
   "metadata": {},
   "source": [
    "<u>the actual output of the city generator section</u>"
   ]
  },
  {
   "cell_type": "code",
   "execution_count": null,
   "id": "7383ded4",
   "metadata": {},
   "outputs": [],
   "source": [
    "# disable performance profiling for this section \n",
    "measure_time.enabled = False\n",
    "\n",
    "citiesTuple = read_csv_to_tuple(dataset_file_path)\n",
    "citiesSample = sample_N_from_tuple(citiesTuple, 10)\n",
    "\n",
    "# display the map with the selected cities\n",
    "plot_cities(citiesSample)"
   ]
  },
  {
   "cell_type": "markdown",
   "id": "4a883824",
   "metadata": {},
   "source": [
    "# location generator \n",
    "The purpose of this staged is to generate a series of city names along with their respective longitude and latitude coordinates. It achieves this by extracting the relevant information from a given list of city data"
   ]
  },
  {
   "cell_type": "code",
   "execution_count": null,
   "id": "16a8a92f",
   "metadata": {},
   "outputs": [],
   "source": [
    "# enable performance profiling for this section \n",
    "measure_time.enabled = True"
   ]
  },
  {
   "cell_type": "markdown",
   "id": "59b915d1",
   "metadata": {},
   "source": [
    "<u>non-optimized</u>"
   ]
  },
  {
   "cell_type": "code",
   "execution_count": null,
   "id": "20201119",
   "metadata": {},
   "outputs": [],
   "source": [
    "@measure_time\n",
    "def create_location_generator(citiesSample: List[List[str]]) -> Dict[str, Tuple[float, float]]:\n",
    "    # Create an empty dictionary to store the location data\n",
    "    tmp = {}  \n",
    "    \n",
    "    for city in citiesSample:  # Iterate over each city in citiesSample\n",
    "        city_name = city[4]  # Get the city name from the city data\n",
    "        longitude = float(city[3])  # Get the longitude from the city data and convert it to float\n",
    "        latitude = float(city[2])  # Get the latitude from the city data and convert it to float\n",
    "        tmp[city_name] = (longitude, latitude)  # Store the longitude and latitude as a tuple in the dictionary\n",
    "    \n",
    "    # Return the dictionary containing the location data\n",
    "    return tmp"
   ]
  },
  {
   "cell_type": "code",
   "execution_count": null,
   "id": "75486816",
   "metadata": {},
   "outputs": [],
   "source": [
    "location = create_location_generator(citiesSample)"
   ]
  },
  {
   "cell_type": "markdown",
   "id": "c0fec83b",
   "metadata": {},
   "source": [
    "<u>optimized</u>"
   ]
  },
  {
   "cell_type": "markdown",
   "id": "baeda1e0",
   "metadata": {},
   "source": [
    "- Uses NumPy array indexing to extract city names, longitudes, and latitudes from the citiesSample list in one operation.\n",
    "    - The optimized version leverages NumPy's array indexing and vectorized operations to extract the necessary data from the citiesSample list. This allows for faster and more efficient data extraction compared to the iterative approach in the non-optimized version.\n",
    "- Converts the longitudes and latitudes to float using NumPy's astype function.\n",
    "    - In the non-optimized version, the conversion to float is performed individually for each longitude and latitude. In the optimized version, NumPy's astype function is applied to the entire arrays of longitudes and latitudes in one operation. This bulk conversion is more efficient and faster.\n",
    "- Utilizes the zip function and generator syntax (yield from) to create a generator that yields tuples of city names and corresponding longitude-latitude pairs.\n",
    "    - The optimized version uses a generator and the yield from syntax to produce the desired output. Generators provide a memory-efficient way to produce values on-the-fly, as opposed to constructing and returning a complete dictionary in the non-optimized version. This can improve performance, especially when dealing with large datasets.\n"
   ]
  },
  {
   "cell_type": "code",
   "execution_count": null,
   "id": "cf6d45e6",
   "metadata": {},
   "outputs": [],
   "source": [
    "@measure_time\n",
    "def create_location_generator(citiesSample: List[List[str]]) -> Generator[Tuple[str, Tuple[float, float]], None, None]:\n",
    "    # Extract city names from citiesSample using NumPy array indexing\n",
    "    city_names = np.array(citiesSample)[:, 4]\n",
    "    # Extract longitudes and convert them to float using NumPy array indexing\n",
    "    longitudes = np.array(citiesSample)[:, 3].astype(float)\n",
    "    # Extract latitudes and convert them to float using NumPy array indexing\n",
    "    latitudes = np.array(citiesSample)[:, 2].astype(float)\n",
    "\n",
    "    yield from zip(city_names, zip(longitudes, latitudes))"
   ]
  },
  {
   "cell_type": "code",
   "execution_count": null,
   "id": "32b9d276",
   "metadata": {},
   "outputs": [],
   "source": [
    "location = create_location_generator(citiesSample)"
   ]
  },
  {
   "cell_type": "markdown",
   "id": "5d4214bd",
   "metadata": {},
   "source": [
    "<u>the actual output of the location generator section</u>"
   ]
  },
  {
   "cell_type": "code",
   "execution_count": null,
   "id": "3fca19c5",
   "metadata": {},
   "outputs": [],
   "source": [
    "# disable performance profiling for this section \n",
    "measure_time.enabled = False\n",
    "\n",
    "for city_name, coordinates in create_location_generator(citiesSample):\n",
    "    print(f'{city_name}: {coordinates}')"
   ]
  },
  {
   "cell_type": "markdown",
   "id": "a6c466be",
   "metadata": {},
   "source": [
    "# distance matrix generator\n",
    "\n",
    "this part calculate a distance matrix for a set of cities based on their geographic coordinates. "
   ]
  },
  {
   "cell_type": "code",
   "execution_count": null,
   "id": "73ae5c55",
   "metadata": {},
   "outputs": [],
   "source": [
    "# enable performance profiling for this section \n",
    "measure_time.enabled = True"
   ]
  },
  {
   "cell_type": "markdown",
   "id": "d5e4d23f",
   "metadata": {},
   "source": [
    "<u>non-optimized</u>"
   ]
  },
  {
   "cell_type": "code",
   "execution_count": null,
   "id": "a7e64801",
   "metadata": {},
   "outputs": [],
   "source": [
    "@measure_time\n",
    "def calculate_distance_matrix(generator) -> Dict[str, Dict[str, float]]:\n",
    "    distance_matrix = {}  # Create an empty dictionary to store the distance matrix\n",
    "    city_coords = []  # Create an empty list to store city names and coordinates\n",
    "    \n",
    "    # Iterate over each city name and coordinates from the generator and \n",
    "    # append the city name and coordinates as a tuple to city_coords\n",
    "    for city_name, coordinates in generator:\n",
    "        city_coords.append((city_name, coordinates)) \n",
    "    \n",
    "    # Iterate over the city name and coordinates using enumerate\n",
    "    for i, (city1, coords1) in enumerate(city_coords):\n",
    "        \n",
    "        # Create an empty dictionary for each city in the distance matrix\n",
    "        distance_matrix[city1] = {}\n",
    "        \n",
    "        # Iterate over the city name and coordinates again\n",
    "        for j, (city2, coords2) in enumerate(city_coords):  \n",
    "            if i == j:\n",
    "                # Set the distance between a city and itself to 0.0\n",
    "                distance_matrix[city1][city2] = 0.0 \n",
    "            else:\n",
    "                # Calculate the geodesic distance between two coordinates\n",
    "                distance = geodesic(coords1, coords2).kilometers\n",
    "                # Store the distance in the distance matrix\n",
    "                distance_matrix[city1][city2] = distance  \n",
    "    \n",
    "    return distance_matrix"
   ]
  },
  {
   "cell_type": "code",
   "execution_count": null,
   "id": "ed715e67",
   "metadata": {},
   "outputs": [],
   "source": [
    "distance_matrix = calculate_distance_matrix(\n",
    "    create_location_generator(citiesSample)\n",
    ")"
   ]
  },
  {
   "cell_type": "markdown",
   "id": "08f605f5",
   "metadata": {},
   "source": [
    "<u>optimized</u>"
   ]
  },
  {
   "cell_type": "markdown",
   "id": "253673c0",
   "metadata": {},
   "source": [
    "- The optimized version directly stores the city coordinates in a dictionary (city_coords), eliminating the need for additional data structures like the city_coords list in the non-optimized version. This reduces memory usage and unnecessary operations, resulting in improved performance.\n",
    "- The optimized version utilizes NumPy's vectorized operations to calculate distances between pairs of coordinates. By converting the coordinates to a NumPy array and using broadcasting, the calculations can be performed efficiently in parallel, leading to significant speed improvements.\n",
    "- Instead of constructing an empty dictionary for each city, the optimized version creates a square matrix (distances) with zeros to store the distance values. This allows for efficient indexing and updating of the distances using NumPy operations.\n",
    "- The optimized version converts the distances matrix to a pandas DataFrame, which provides efficient indexing capabilities and convenient conversion to a dictionary. This avoids nested loops and dictionary updates in the non-optimized version, resulting in improved performance."
   ]
  },
  {
   "cell_type": "raw",
   "id": "74497c93",
   "metadata": {},
   "source": [
    "# /!\\ patched but no longer faster than the non-opti one\n",
    "@measure_time\n",
    "def calculate_distance_matrix(generator) -> Dict[str, Dict[str, float]]:\n",
    "    city_coords = {}  # Create an empty dictionary to store city coordinates\n",
    "\n",
    "    # Iterate over city name and coordinates from the generator and \n",
    "    # Store the coordinates in the city_coords dictionary\n",
    "    for city_name, coordinates in generator:\n",
    "        city_coords[city_name] = coordinates\n",
    "\n",
    "    cities = list(city_coords.keys())  # Get a list of city names\n",
    "\n",
    "    coords = np.array(list(city_coords.values()))  # Convert coordinates to a NumPy array\n",
    "    num_cities = len(cities)\n",
    "\n",
    "    # Calculate pairwise distances using cdist and geodesic\n",
    "    distances = cdist(coords, coords, lambda u, v: geodesic(u, v).kilometers)\n",
    "\n",
    "    # Create a DataFrame from the distances array for easier indexing\n",
    "    df_distances = pd.DataFrame(distances, index=cities, columns=cities)\n",
    "\n",
    "    # Convert the DataFrame to a dictionary\n",
    "    distance_matrix = df_distances.to_dict()\n",
    "\n",
    "    return distance_matrix"
   ]
  },
  {
   "cell_type": "raw",
   "id": "882d2e3f",
   "metadata": {},
   "source": [
    "distance_matrix = calculate_distance_matrix(\n",
    "    create_location_generator(citiesSample)\n",
    ")"
   ]
  },
  {
   "cell_type": "markdown",
   "id": "efdb7ef2",
   "metadata": {},
   "source": [
    "<u>the actual output of the distance matrix generator section</u>"
   ]
  },
  {
   "cell_type": "code",
   "execution_count": null,
   "id": "0329b04e",
   "metadata": {
    "scrolled": true
   },
   "outputs": [],
   "source": [
    "# disable performance profiling for this section \n",
    "measure_time.enabled = False\n",
    "\n",
    "calculate_distance_matrix(\n",
    "    create_location_generator(citiesSample)\n",
    ")"
   ]
  },
  {
   "cell_type": "markdown",
   "id": "c09e87eb",
   "metadata": {},
   "source": [
    "# nearest neighbor algorithm"
   ]
  },
  {
   "cell_type": "code",
   "execution_count": null,
   "id": "7851f4b4",
   "metadata": {},
   "outputs": [],
   "source": [
    "# enable performance profiling for this section \n",
    "measure_time.enabled = True"
   ]
  },
  {
   "cell_type": "markdown",
   "id": "5d627eb2",
   "metadata": {},
   "source": [
    "<u>non-optimized</u>"
   ]
  },
  {
   "cell_type": "code",
   "execution_count": null,
   "id": "5d6b713d",
   "metadata": {},
   "outputs": [],
   "source": [
    "@measure_time\n",
    "def construct_path(distances, start):\n",
    "    visited = [start]  # Create a list to store visited towns, starting with the initial town\n",
    "    current_town = start  # Set the current town to the initial town\n",
    "    \n",
    "    # Continue until all towns have been visited\n",
    "    while len(visited) < len(distances):\n",
    "        # Initialize the nearest town as None \n",
    "        # and the minimum distance as infinity\n",
    "        nearest_town = None \n",
    "        min_distance = float('inf')\n",
    "        \n",
    "        #  Iterate over the distances from the current town\n",
    "        for town, distance in distances[current_town].items():\n",
    "            # Check if the town is unvisited and has a shorter distance\n",
    "            if town not in visited and distance < min_distance:\n",
    "                nearest_town = town  # Update the nearest town\n",
    "                min_distance = distance  # Update the minimum distance\n",
    "        \n",
    "        # If no unvisited town with a shorter distance is found, break the loop\n",
    "        if nearest_town is None:  \n",
    "            break\n",
    "            \n",
    "        visited.append(nearest_town)  # Add the nearest town to the visited list\n",
    "        current_town = nearest_town  # Update the current town to the nearest town\n",
    "     \n",
    "    # Add the initial town to complete the cycle\n",
    "    visited.append(start)\n",
    "    return visited"
   ]
  },
  {
   "cell_type": "code",
   "execution_count": null,
   "id": "bdfdca5c",
   "metadata": {},
   "outputs": [],
   "source": [
    "distances = calculate_distance_matrix(\n",
    "    create_location_generator(citiesSample)\n",
    ")\n",
    "\n",
    "# this represent the first town found in the distances dict \n",
    "start_point = next(iter(distances.keys())) \n",
    "path = construct_path(distances, start_point)"
   ]
  },
  {
   "cell_type": "markdown",
   "id": "5b94863b",
   "metadata": {},
   "source": [
    "<u>optimized</u>"
   ]
  },
  {
   "cell_type": "markdown",
   "id": "168396e2",
   "metadata": {},
   "source": [
    "- The optimized version utilizes NumPy's vectorized operations to perform calculations on arrays of distances and boolean masks. These operations can be executed efficiently in parallel, leading to improved performance compared to the iterative approach in the non-optimized version.\n",
    "- The optimized version reduces the number of conditional checks by updating the nearest town and minimum distance within the vectorized operations. This avoids multiple checks and updates within the loop, resulting in faster execution.\n",
    "- The optimized version uses NumPy's array indexing functions (isin and argmin) to identify unvisited towns and find the index of the nearest town with the shortest distance. These indexing operations are optimized in NumPy and provide faster access and retrieval of elements from arrays.\n"
   ]
  },
  {
   "cell_type": "code",
   "execution_count": null,
   "id": "9440100b",
   "metadata": {},
   "outputs": [],
   "source": [
    "@measure_time\n",
    "def construct_path(distances, start):\n",
    "    visited = [start]  # Create a list to store visited towns, starting with the initial town\n",
    "    current_town = start  # Set the current town to the initial town\n",
    "    \n",
    "    # Continue until all towns have been visited\n",
    "    pbar = tqdm(total=len(distances) - 1, desc=\"Constructing Path\", unit=\"town\", ncols=80,\n",
    "                bar_format=\"{l_bar}{bar}| {n_fmt}/{total_fmt}\")\n",
    "\n",
    "    while len(visited) < len(distances):\n",
    "        nearest_town = None  # Initialize the nearest town as None\n",
    "        min_distance = float('inf')  # Initialize the minimum distance as infinity\n",
    "\n",
    "        # Create a boolean mask to identify unvisited towns\n",
    "        unvisited_mask = np.isin(list(distances.keys()), visited, invert=True)\n",
    "\n",
    "        # Find the nearest town using vectorized operations\n",
    "        town_distances = np.array(list(distances[current_town].values()))\n",
    "        unvisited_distances = town_distances * unvisited_mask\n",
    "\n",
    "        # Exclude already visited towns from consideration\n",
    "        unvisited_distances[~unvisited_mask] = float('inf')\n",
    "\n",
    "        nearest_town_index = np.argmin(unvisited_distances)\n",
    "\n",
    "        if np.isinf(min_distance) or unvisited_distances[nearest_town_index] < min_distance:\n",
    "            nearest_town = list(distances.keys())[nearest_town_index]\n",
    "            min_distance = unvisited_distances[nearest_town_index]\n",
    "        \n",
    "        # If no unvisited town with a shorter distance is found, break the loop\n",
    "        if nearest_town is None:\n",
    "            break\n",
    "        \n",
    "        visited.append(nearest_town)  # Add the nearest town to the visited list\n",
    "        current_town = nearest_town  # Update the current town to the nearest town\n",
    "\n",
    "        # Update the progress bar\n",
    "        pbar.update(1)\n",
    "\n",
    "    # Close the progress bar\n",
    "    pbar.close()\n",
    "\n",
    "    # Add the initial town to complete the cycle\n",
    "    visited.append(start)\n",
    "    return visited  # Return the visited towns in the constructed path\n"
   ]
  },
  {
   "cell_type": "code",
   "execution_count": null,
   "id": "7c81a17a",
   "metadata": {},
   "outputs": [],
   "source": [
    "distances = calculate_distance_matrix(\n",
    "    create_location_generator(citiesSample)\n",
    ")\n",
    "\n",
    "# this represent the first town found in the distances dict \n",
    "start_point = next(iter(distances.keys())) \n",
    "path = construct_path(distances, start_point)"
   ]
  },
  {
   "cell_type": "markdown",
   "id": "39b1fd1c",
   "metadata": {},
   "source": [
    "<u>the actual output of the nearest neighbor algorithm section</u>"
   ]
  },
  {
   "cell_type": "code",
   "execution_count": null,
   "id": "01b30665",
   "metadata": {},
   "outputs": [],
   "source": [
    "# disable performance profiling for this section \n",
    "measure_time.enabled = False\n",
    "\n",
    "distances = calculate_distance_matrix(\n",
    "    create_location_generator(citiesSample)\n",
    ")\n",
    "\n",
    "# this represent the first town found in the distances dict \n",
    "start_point = next(iter(distances.keys())) \n",
    "path = construct_path(distances, start_point)\n",
    "\n",
    "# Print the path\n",
    "print(\"Path:\", ' -> '.join(path))"
   ]
  },
  {
   "cell_type": "code",
   "execution_count": null,
   "id": "86e8c8e1",
   "metadata": {},
   "outputs": [],
   "source": [
    "plot_cities(citiesSample, path)"
   ]
  }
 ],
 "metadata": {
  "kernelspec": {
   "display_name": "Python 3 (ipykernel)",
   "language": "python",
   "name": "python3"
  },
  "language_info": {
   "codemirror_mode": {
    "name": "ipython",
    "version": 3
   },
   "file_extension": ".py",
   "mimetype": "text/x-python",
   "name": "python",
   "nbconvert_exporter": "python",
   "pygments_lexer": "ipython3",
   "version": "3.11.3"
  }
 },
 "nbformat": 4,
 "nbformat_minor": 5
}
